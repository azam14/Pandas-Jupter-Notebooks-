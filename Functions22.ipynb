{
 "cells": [
  {
   "cell_type": "code",
   "execution_count": 1,
   "metadata": {},
   "outputs": [],
   "source": [
    "def fx4(x):\n",
    "    print(x)\n",
    "    print('still in function')\n",
    "    return 3*x"
   ]
  },
  {
   "cell_type": "code",
   "execution_count": 2,
   "metadata": {},
   "outputs": [
    {
     "name": "stdout",
     "output_type": "stream",
     "text": [
      "4\n",
      "still in function\n"
     ]
    }
   ],
   "source": [
    "f=fx4(4)"
   ]
  },
  {
   "cell_type": "code",
   "execution_count": 3,
   "metadata": {},
   "outputs": [
    {
     "data": {
      "text/plain": [
       "12"
      ]
     },
     "execution_count": 3,
     "metadata": {},
     "output_type": "execute_result"
    }
   ],
   "source": [
    "f"
   ]
  },
  {
   "cell_type": "code",
   "execution_count": 4,
   "metadata": {},
   "outputs": [],
   "source": [
    "def fx5(some_argument):\n",
    "    print (some_argument)\n",
    "    print ('weeeeee')"
   ]
  },
  {
   "cell_type": "code",
   "execution_count": 5,
   "metadata": {},
   "outputs": [
    {
     "name": "stdout",
     "output_type": "stream",
     "text": [
      "99\n",
      "weeeeee\n"
     ]
    }
   ],
   "source": [
    "fx5(99)"
   ]
  },
  {
   "cell_type": "code",
   "execution_count": 6,
   "metadata": {},
   "outputs": [],
   "source": [
    "# BMI calc\n",
    "name1='YK'\n",
    "height_m1= 2\n",
    "weight_kg = 90\n",
    "\n",
    "name2='YK sister'\n",
    "height_m2= 1.8\n",
    "weight_kg2 = 70\n",
    "\n",
    "name3='YK, brother'\n",
    "height_m3= 2.5\n",
    "weight_kg3= 160"
   ]
  },
  {
   "cell_type": "code",
   "execution_count": 7,
   "metadata": {},
   "outputs": [],
   "source": [
    "def bmi_calc(name,height_m, weight_kg):\n",
    "    bmi = weight_kg / (height_m ** 2)\n",
    "    print('bmi: ')\n",
    "    print(bmi)\n",
    "    if bmi < 25:\n",
    "        return name + 'is not overweight'\n",
    "    else:\n",
    "        return name + 'is overweight'\n",
    "    "
   ]
  },
  {
   "cell_type": "code",
   "execution_count": 8,
   "metadata": {},
   "outputs": [
    {
     "name": "stdout",
     "output_type": "stream",
     "text": [
      "bmi: \n",
      "22.5\n",
      "bmi: \n",
      "21.604938271604937\n",
      "bmi: \n",
      "25.6\n"
     ]
    }
   ],
   "source": [
    "bmi1 = bmi_calc(name1, height_m1, weight_kg)\n",
    "bmi2 = bmi_calc(name2, height_m2, weight_kg2)\n",
    "bmi3 = bmi_calc(name3, height_m3, weight_kg3)"
   ]
  },
  {
   "cell_type": "code",
   "execution_count": 9,
   "metadata": {},
   "outputs": [
    {
     "name": "stdout",
     "output_type": "stream",
     "text": [
      "YKis not overweight\n",
      "YK sisteris not overweight\n",
      "YK, brotheris overweight\n"
     ]
    }
   ],
   "source": [
    "print(bmi1)\n",
    "print(bmi2)\n",
    "print(bmi3)"
   ]
  },
  {
   "cell_type": "code",
   "execution_count": 10,
   "metadata": {},
   "outputs": [],
   "source": [
    "class Employee:\n",
    "    def __init__(self, first, last, pay):\n",
    "        self.first = first\n",
    "        self.last=last\n",
    "        self.pay = pay\n",
    "        self.email = first + '.' +last + '@company.com'\n",
    "        \n",
    "        def fullname(self):\n",
    "            return '{} {}'.format(self.first, self.last)\n",
    "        "
   ]
  },
  {
   "cell_type": "code",
   "execution_count": 11,
   "metadata": {},
   "outputs": [],
   "source": [
    "emp_1=Employee('Corey', 'Schafer', 50000)\n",
    "emp_2=Employee('Test', 'User', 60000)"
   ]
  },
  {
   "cell_type": "code",
   "execution_count": 12,
   "metadata": {},
   "outputs": [],
   "source": [
    "emp_1.first = 'Corey'\n",
    "emp_1.last = 'Schafer'\n",
    "emp_1.email = 'corey.schafer@company.com'\n",
    "emp_1.pay = 40000\n",
    "\n",
    "emp_2.first = 'Test'\n",
    "emp_2.last = 'User'\n",
    "emp_2.email = 'test.user@company.com'\n",
    "emp_2.pay = 80000"
   ]
  },
  {
   "cell_type": "code",
   "execution_count": 13,
   "metadata": {},
   "outputs": [],
   "source": [
    "#print(emp_1.fullname())"
   ]
  },
  {
   "cell_type": "code",
   "execution_count": 14,
   "metadata": {},
   "outputs": [
    {
     "name": "stdout",
     "output_type": "stream",
     "text": [
      "<class '__main__.Computer'>\n"
     ]
    }
   ],
   "source": [
    "class Computer:\n",
    "    def config(self):\n",
    "        print('I5, 16gb, 1TB')\n",
    "        \n",
    "comp1 = Computer()\n",
    "print(type(comp1))"
   ]
  },
  {
   "cell_type": "code",
   "execution_count": 15,
   "metadata": {},
   "outputs": [
    {
     "name": "stdout",
     "output_type": "stream",
     "text": [
      "I5, 16gb, 1TB\n"
     ]
    }
   ],
   "source": [
    "Computer.config(comp1)"
   ]
  },
  {
   "cell_type": "code",
   "execution_count": 16,
   "metadata": {},
   "outputs": [
    {
     "name": "stdout",
     "output_type": "stream",
     "text": [
      "I5, 16gb, 1TB\n"
     ]
    }
   ],
   "source": [
    "comp1.config()"
   ]
  },
  {
   "cell_type": "code",
   "execution_count": null,
   "metadata": {},
   "outputs": [],
   "source": []
  },
  {
   "cell_type": "code",
   "execution_count": 48,
   "metadata": {},
   "outputs": [
    {
     "ename": "NameError",
     "evalue": "name 'Student' is not defined",
     "output_type": "error",
     "traceback": [
      "\u001b[1;31m---------------------------------------------------------------------------\u001b[0m",
      "\u001b[1;31mNameError\u001b[0m                                 Traceback (most recent call last)",
      "\u001b[1;32m<ipython-input-48-7e8fa9e7f9d5>\u001b[0m in \u001b[0;36m<module>\u001b[1;34m\u001b[0m\n\u001b[1;32m----> 1\u001b[1;33m \u001b[1;32mclass\u001b[0m \u001b[0mStudent\u001b[0m\u001b[1;33m:\u001b[0m\u001b[1;33m\u001b[0m\u001b[1;33m\u001b[0m\u001b[0m\n\u001b[0m\u001b[0;32m      2\u001b[0m \u001b[1;33m\u001b[0m\u001b[0m\n\u001b[0;32m      3\u001b[0m         \u001b[1;32mdef\u001b[0m \u001b[0m__init__\u001b[0m\u001b[1;33m(\u001b[0m\u001b[0mself\u001b[0m\u001b[1;33m,\u001b[0m\u001b[0mfirst\u001b[0m\u001b[1;33m,\u001b[0m\u001b[0mlast\u001b[0m\u001b[1;33m,\u001b[0m\u001b[0mmarks\u001b[0m\u001b[1;33m)\u001b[0m\u001b[1;33m:\u001b[0m\u001b[1;33m\u001b[0m\u001b[1;33m\u001b[0m\u001b[0m\n\u001b[0;32m      4\u001b[0m \u001b[1;33m\u001b[0m\u001b[0m\n\u001b[0;32m      5\u001b[0m             \u001b[0mself\u001b[0m\u001b[1;33m.\u001b[0m\u001b[0mfirst\u001b[0m \u001b[1;33m=\u001b[0m \u001b[0mfirst\u001b[0m\u001b[1;33m\u001b[0m\u001b[1;33m\u001b[0m\u001b[0m\n",
      "\u001b[1;32m<ipython-input-48-7e8fa9e7f9d5>\u001b[0m in \u001b[0;36mStudent\u001b[1;34m()\u001b[0m\n\u001b[0;32m      9\u001b[0m \u001b[1;33m\u001b[0m\u001b[0m\n\u001b[0;32m     10\u001b[0m \u001b[1;31m#instances\u001b[0m\u001b[1;33m\u001b[0m\u001b[1;33m\u001b[0m\u001b[1;33m\u001b[0m\u001b[0m\n\u001b[1;32m---> 11\u001b[1;33m         \u001b[0mStd_1\u001b[0m \u001b[1;33m=\u001b[0m \u001b[0mStudent\u001b[0m\u001b[1;33m(\u001b[0m\u001b[1;34m'Neel'\u001b[0m\u001b[1;33m,\u001b[0m \u001b[1;34m'Verma'\u001b[0m\u001b[1;33m,\u001b[0m \u001b[1;36m60\u001b[0m \u001b[1;33m)\u001b[0m\u001b[1;33m\u001b[0m\u001b[1;33m\u001b[0m\u001b[0m\n\u001b[0m\u001b[0;32m     12\u001b[0m         \u001b[0mStd_2\u001b[0m \u001b[1;33m=\u001b[0m \u001b[0mStudent\u001b[0m\u001b[1;33m(\u001b[0m\u001b[1;34m'Hemant'\u001b[0m\u001b[1;33m,\u001b[0m \u001b[1;34m'Verma'\u001b[0m\u001b[1;33m,\u001b[0m \u001b[1;36m90\u001b[0m\u001b[1;33m)\u001b[0m\u001b[1;33m\u001b[0m\u001b[1;33m\u001b[0m\u001b[0m\n\u001b[0;32m     13\u001b[0m \u001b[1;33m\u001b[0m\u001b[0m\n",
      "\u001b[1;31mNameError\u001b[0m: name 'Student' is not defined"
     ]
    }
   ],
   "source": [
    "class Student:\n",
    "        \n",
    "        def __init__(self,first,last,marks):\n",
    "        \n",
    "            self.first = first\n",
    "            self.last=last\n",
    "            #self.email = first + '.' + last + '@school.com'\n",
    "            self.marks = marks\n",
    "        \n",
    "#instances\n",
    "        Std_1 = Student('Neel', 'Verma', 60 )\n",
    "        Std_2 = Student('Hemant', 'Verma', 90)\n",
    "    \n",
    "        print(Std_1.first)\n",
    "        print(Std_2.first)\n",
    "    #data\n",
    "    #Std_1.first = 'Neel'\n",
    "    #Std_1.last = 'Verma'\n",
    "    #Std_1.email = 'Neel@school.com'\n",
    "    #Std_1.marks = 55\n",
    "    \n",
    "    #Std_2.first = 'Hemant'\n",
    "    #Std_2.last = 'Sharma'\n",
    "    #Std_2.email = 'Hemant@school.com'\n",
    "    #Std_2.marks = 99\n",
    "    #output\n",
    "    #print(Std_1.first)\n",
    "    #print(Std_2.first)"
   ]
  },
  {
   "cell_type": "code",
   "execution_count": null,
   "metadata": {},
   "outputs": [],
   "source": []
  },
  {
   "cell_type": "code",
   "execution_count": null,
   "metadata": {},
   "outputs": [],
   "source": []
  },
  {
   "cell_type": "code",
   "execution_count": null,
   "metadata": {},
   "outputs": [],
   "source": []
  }
 ],
 "metadata": {
  "kernelspec": {
   "display_name": "Python 3",
   "language": "python",
   "name": "python3"
  },
  "language_info": {
   "codemirror_mode": {
    "name": "ipython",
    "version": 3
   },
   "file_extension": ".py",
   "mimetype": "text/x-python",
   "name": "python",
   "nbconvert_exporter": "python",
   "pygments_lexer": "ipython3",
   "version": "3.7.3"
  }
 },
 "nbformat": 4,
 "nbformat_minor": 2
}
